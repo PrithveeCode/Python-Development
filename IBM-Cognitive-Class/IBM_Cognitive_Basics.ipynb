{
  "cells": [
    {
      "cell_type": "markdown",
      "metadata": {
        "id": "EClg0UX6bRUD"
      },
      "source": [
        "# **1. Your First Program**"
      ]
    },
    {
      "cell_type": "code",
      "execution_count": 1,
      "metadata": {
        "id": "5fVJCYtcKIA7"
      },
      "outputs": [],
      "source": [
        "import math\n",
        "import random"
      ]
    },
    {
      "cell_type": "code",
      "execution_count": 2,
      "metadata": {
        "colab": {
          "base_uri": "https://localhost:8080/"
        },
        "id": "2D8RXliSbRUJ",
        "outputId": "4bb8dc86-c639-40e7-ace1-d4bcbd34cc1e",
        "trusted": true
      },
      "outputs": [
        {
          "name": "stdout",
          "output_type": "stream",
          "text": [
            "Hello Python101\n"
          ]
        }
      ],
      "source": [
        "print(\"Hello Python101\", flush=True, end='\\n')"
      ]
    },
    {
      "cell_type": "markdown",
      "metadata": {
        "id": "yyVdnDG9bRUN"
      },
      "source": [
        "# **2. String Operations**"
      ]
    },
    {
      "cell_type": "code",
      "execution_count": 3,
      "metadata": {
        "colab": {
          "base_uri": "https://localhost:8080/"
        },
        "id": "d7szxOa4bRUP",
        "outputId": "b277e447-a142-4a85-f588-d030791ef110",
        "trusted": true
      },
      "outputs": [
        {
          "name": "stdout",
          "output_type": "stream",
          "text": [
            "Using \"Upper\"   Method: PYTHON IS THE BEST PROGRAMMING!\n",
            "Using \"Lower\"   Method: python is the best programming!\n",
            "Using \"Replace\" Method: C++ is the Best Programming!\n",
            "Using \"Find\"    Method: 19\n"
          ]
        }
      ],
      "source": [
        "string1 = \"Python is the Best Programming!\"\n",
        "\n",
        "# This is the usage of \"Methods\" in Python Strings!\n",
        "print(f\"Using \\\"Upper\\\"   Method: {string1.upper()}\")\n",
        "print(f\"Using \\\"Lower\\\"   Method: {string1.lower()}\")\n",
        "print(f\"Using \\\"Replace\\\" Method: {string1.replace('Python', 'C++')}\")\n",
        "print(f\"Using \\\"Find\\\"    Method: {string1.find('Pro')}\")\n",
        "\n",
        "del(string1)"
      ]
    },
    {
      "cell_type": "markdown",
      "metadata": {
        "id": "XfoXhOfmbRUS"
      },
      "source": [
        "# **3. Tuples**"
      ]
    },
    {
      "cell_type": "code",
      "execution_count": 4,
      "metadata": {
        "colab": {
          "base_uri": "https://localhost:8080/"
        },
        "id": "kjQOu20ObRUT",
        "outputId": "e6d54d6a-d2d2-40c8-98da-8e9ba6994d59",
        "trusted": true
      },
      "outputs": [
        {
          "name": "stdout",
          "output_type": "stream",
          "text": [
            "(1, 2, 3, 4)\n",
            "(1, 'Hello, World!', 1.22, False)\n",
            "(1, 2.5, 'Python is Best', [1, 2, 4], 3.14)\n",
            "\n",
            "(1, 'Hello, World!', 1.22)\n",
            "(2.5,)\n",
            "[4, 3, 2, 1]\n",
            "(1, 2, 3, 4)\n",
            "Using Nested Slicing: 4\n"
          ]
        }
      ],
      "source": [
        "# All The Ways To Create Tuples\n",
        "# All The Values To Store in a Tuple(s)\n",
        "# All Tuples Are Immutable -> Means -> Unchangeable!\n",
        "tuple1 = tuple([1, 2, 3, 4])\n",
        "tuple2 = (1, \"Hello, World!\", 1.22, False)\n",
        "tuple3 = 1, 2.5, \"Python is Best\", [1, 2, 4], 3.14\n",
        "\n",
        "print(tuple1)\n",
        "print(tuple2)\n",
        "print(tuple3)\n",
        "\n",
        "# Tuple Slicing in Python\n",
        "print(end='\\n')\n",
        "print(tuple2[0:3])\n",
        "print(tuple3[1:2])\n",
        "\n",
        "print(sorted(tuple1, reverse=True))\n",
        "# But, That doesn't change The Main Tuple!\n",
        "print(tuple1)\n",
        "\n",
        "# Working on Nested Tuples\n",
        "tuplex = (1, (2, 3, 4), 5, \"Python Is Best!\", False)\n",
        "print(f\"Using Nested Slicing: {tuplex[1][2]}\")\n",
        "\n",
        "del(tuple1)\n",
        "del(tuple2)\n",
        "del(tuple3)\n",
        "del(tuplex)"
      ]
    },
    {
      "cell_type": "markdown",
      "metadata": {
        "id": "NX7XsJOBbRUW"
      },
      "source": [
        "# **4. Lists**\n",
        "\n",
        "### What are Lists?\n",
        "- **Lists** are ordered collections of items.\n",
        "- Lists can contain elements of different data types, including other lists.\n",
        "\n",
        "### Key Characteristics\n",
        "- **Ordered**: The order of elements is preserved.\n",
        "- **Mutable**: Elements can be changed, added, or removed after the list is created.\n",
        "- **Indexing**: Elements are accessed using zero-based index positions.\n",
        "\n",
        "### Operations\n",
        "- **Accessing Elements**: Retrieve elements by their index.\n",
        "- **Slicing**: Extract a subset of the list using a range of indices.\n",
        "- **Modifying**: Change existing elements, add new ones, or remove elements.\n",
        "- **Common Methods**: Includes operations like appending, inserting, removing, and sorting elements.\n",
        "\n",
        "### Use Cases\n",
        "- **Storing Data**: Useful for managing collections of related items.\n",
        "- **Iteration**: Often used in loops for processing each item in the list.\n",
        "\n",
        "\n",
        "\n",
        "\n",
        "\n"
      ]
    },
    {
      "cell_type": "code",
      "execution_count": 5,
      "metadata": {
        "colab": {
          "base_uri": "https://localhost:8080/"
        },
        "id": "p4RdnfAVbRUZ",
        "outputId": "447a0566-9a38-49f9-a5cb-45659b480672",
        "trusted": true
      },
      "outputs": [
        {
          "name": "stdout",
          "output_type": "stream",
          "text": [
            "List1: [1, 2, 3, 4]\n",
            "List2: [1, 'Hello, World!', 1.22, False]\n",
            "List3: [1, 2.5, 'Python is Best', [1, 2, 4], 3.14]\n",
            "\n",
            "List Slicing:\n",
            "list2[0:3]: [1, 'Hello, World!', 1.22]\n",
            "list3[1:3]: [2.5, 'Python is Best']\n",
            "\n",
            "Sorted List:\n",
            "Sorted list1 (descending): [4, 3, 2, 1]\n",
            "Original list1: [1, 2, 3, 4]\n",
            "\n",
            "Using Nested Slicing: 4\n"
          ]
        }
      ],
      "source": [
        "# All The Ways To Create Lists\n",
        "# All The Values To Store in a List(s)\n",
        "# Lists Are Mutable -> Means -> Changeable!\n",
        "\n",
        "# Creating Lists\n",
        "list1 = list([1, 2, 3, 4])  # From another iterable (like a list)\n",
        "list2 = [1, \"Hello, World!\", 1.22, False]  # Directly with square brackets\n",
        "list3 = [1, 2.5, \"Python is Best\", [1, 2, 4], 3.14]  # Mixed types, including another list\n",
        "\n",
        "# Display the Lists\n",
        "print(\"List1:\", list1)\n",
        "print(\"List2:\", list2)\n",
        "print(\"List3:\", list3)\n",
        "\n",
        "# List Slicing in Python\n",
        "print(\"\\nList Slicing:\")\n",
        "print(\"list2[0:3]:\", list2[0:3])  # Slice from index 0 to 2\n",
        "print(\"list3[1:3]:\", list3[1:3])  # Slice from index 1 to 2\n",
        "\n",
        "# Working with Sorted List\n",
        "print(\"\\nSorted List:\")\n",
        "print(\"Sorted list1 (descending):\", sorted(list1, reverse=True))  # Sorted in descending order\n",
        "print(\"Original list1:\", list1)  # The original list1 remains unchanged\n",
        "\n",
        "# Working on Nested Lists\n",
        "nested_list = [1, [2, 3, 4], 5, \"Python Is Best!\", False]\n",
        "print(f\"\\nUsing Nested Slicing: {nested_list[1][2]}\")  # Accessing element within nested list\n",
        "\n",
        "del(list1)\n",
        "del(list2)\n",
        "del(list3)\n"
      ]
    },
    {
      "cell_type": "markdown",
      "metadata": {
        "id": "C-1Gk8GMbx9H"
      },
      "source": [
        "# **5. List Methods!**\n",
        "**Note**:\n",
        "Since, The List Contains Multiple Kinds of Elements, We Can't use **sort** methods in The below code.\n"
      ]
    },
    {
      "cell_type": "code",
      "execution_count": 6,
      "metadata": {
        "colab": {
          "base_uri": "https://localhost:8080/"
        },
        "id": "ANSWuJRBbRUb",
        "outputId": "eebeea3b-9e2d-4c45-f453-92f84e08d722",
        "trusted": true
      },
      "outputs": [
        {
          "name": "stdout",
          "output_type": "stream",
          "text": [
            "After Append : [1, 3, 3.14, 'Hello, World!-', (1, 2, 3), ['Dayum', 1, 5, 9], False, 10]\n",
            "Copy of List : [1, 3, 3.14, 'Hello, World!-', (1, 2, 3), ['Dayum', 1, 5, 9], False, 10]\n",
            "After Extend : [1, 3, 3.14, 'Hello, World!-', (1, 2, 3), ['Dayum', 1, 5, 9], False, 10, 'Good', 'Morning']\n",
            "After Remove : [1, 3, 3.14, 'Hello, World!-', (1, 2, 3), ['Dayum', 1, 5, 9], False, 10]\n",
            "After Popping: [1, 3.14, 'Hello, World!-', (1, 2, 3), ['Dayum', 1, 5, 9], False, 10]\n",
            "Index (3.14) : [1]\n",
            "After Insert : [1, 3.14, 'Hello, World!-', (1, 2, 3), ['Dayum', 1, 5, 9], False, 10, 2]\n",
            "After Reverse: [2, 10, False, ['Dayum', 1, 5, 9], (1, 2, 3), 'Hello, World!-', 3.14, 1]\n",
            "After Clear: []\n",
            "Creation Using \"split()\" : ['Python', 'Is', 'The', 'Best!']\n"
          ]
        }
      ],
      "source": [
        "list1 = [1, 3, 3.14, \"Hello, World!-\", (1, 2, 3), ['Dayum', 1, 5, 9], False]\n",
        "\n",
        "list1.append(10)\n",
        "print(f\"After Append : {list1}\")\n",
        "\n",
        "list2 = list1.copy()\n",
        "print(f\"Copy of List : {list2}\")\n",
        "\n",
        "list1.extend((\"Good\", \"Morning\"))\n",
        "print(f\"After Extend : {list1}\")\n",
        "\n",
        "list1.remove(\"Good\")\n",
        "list1.remove(\"Morning\")\n",
        "print(f\"After Remove : {list1}\")\n",
        "\n",
        "list1.pop(1)\n",
        "print(f\"After Popping: {list1}\")\n",
        "\n",
        "print(f\"Index (3.14) : {[list1.index(3.14)]}\")\n",
        "\n",
        "\n",
        "list1.insert(1001, 2)\n",
        "print(f\"After Insert : {list1}\")\n",
        "\n",
        "list1.reverse()\n",
        "print(f\"After Reverse: {list1}\")\n",
        "\n",
        "\n",
        "list2.clear()\n",
        "print(f\"After Clear: {list2}\")\n",
        "\n",
        "list3 = \"Python Is The Best!\".split(' ')\n",
        "print(f\"Creation Using \\\"split()\\\" : {list3}\")\n",
        "\n",
        "\n",
        "del(list1)\n",
        "del(list2)\n",
        "del(list3)\n"
      ]
    },
    {
      "cell_type": "markdown",
      "metadata": {
        "id": "9NosKiMEJDND"
      },
      "source": [
        "# **6. Sets**\n",
        "\n",
        "\n",
        "## Overview\n",
        "\n",
        "In Python, a **set** is a built-in data structure that represents an unordered collection of unique elements. Sets are highly useful when dealing with data that should not contain duplicates and where the order of elements is not a concern.\n",
        "\n",
        "## Key Characteristics\n",
        "\n",
        "1. **Unordered**: The elements in a set are not stored in a specific order. As a result, the items have no index, and they cannot be accessed by a particular position within the set.\n",
        "\n",
        "2. **Unique Elements**: A set automatically ensures that there are no duplicate elements. If an attempt is made to add a duplicate item, the set will ignore it.\n",
        "\n",
        "3. **Mutable**: Sets are mutable, meaning that elements can be added or removed after the set has been created. However, the elements themselves must be immutable, such as numbers, strings, or tuples.\n",
        "\n",
        "4. **No Indexing**: Because sets are unordered, they do not support indexing, slicing, or other sequence-like behavior.\n",
        "\n",
        "## Use Cases\n",
        "\n",
        "- **Membership Testing**: Sets are ideal for checking if an item exists within a collection due to their efficient membership testing, often faster than lists or tuples.\n",
        "  \n",
        "- **Removing Duplicates**: Sets can be used to eliminate duplicate items from a sequence or collection, ensuring that only unique values are stored.\n",
        "\n",
        "- **Set Operations**: Sets support a variety of mathematical set operations, including union, intersection, difference, and symmetric difference, making them useful in tasks involving data comparison or combination."
      ]
    },
    {
      "cell_type": "code",
      "execution_count": 7,
      "metadata": {
        "colab": {
          "base_uri": "https://localhost:8080/"
        },
        "id": "kXL9TB8lJIYp",
        "outputId": "6c296f36-e188-4359-e580-09edb6cd5872"
      },
      "outputs": [
        {
          "name": "stdout",
          "output_type": "stream",
          "text": [
            "Print the Set1: {1, 2, 3, 4}\n",
            "Print the Set2: {1, 3.14, \"List aren't bad!\", 1987}\n",
            "Automaticaly removes the duplicates: {1, 2, 3, 4, 'Hello, World!'}\n",
            "\n",
            "\"NYC\" is present in the set.\n",
            "\"NYC\" is not present in the set.\n",
            "\"NYC\" is not present in the set.\n",
            "\n",
            "These parts are common in both set1 & set2! : {1}\n",
            "These parts are common in both set1 & set3! : {1, 2, 3, 4}\n",
            "These parts are common in both set2 & set3! : {1}\n",
            "\n",
            "Is set1 a subset of set2? : True\n",
            "Is set2 a subset of set1? : False\n",
            "Is set3 a subset of set2? : False\n",
            "\n",
            "Is set3 a superset of set1? : True\n",
            "Is set2 a superset of set1? : False\n",
            "Is set3 a superset of set2? : False\n",
            "\n",
            "Print the Set1: {33, 39, 71, 74, 44, 45, 13, 47, 49, 51}\n",
            "Print the Set2: {66, 42, 11, 14, 15, 48, 79, 57, 92, 62}\n",
            "Print the Set3: {65, 71, 59, 11, 84, 85, 54, 91, 60, 94}\n",
            "\n",
            "The Common Elements in set1 & set2 are set()\n",
            "The Common Elements in set1 & set3 are {71}\n",
            "The Common Elements in set1 & set3 are {11}\n",
            "\n",
            "The Union of set1 & set2 are {66, 71, 74, 11, 13, 14, 15, 79, 92, 33, 39, 42, 44, 45, 47, 48, 49, 51, 57, 62}\n",
            "The Union of set1 & set3 are {65, 71, 74, 11, 13, 84, 85, 91, 94, 33, 39, 44, 45, 47, 49, 51, 54, 59, 60}\n",
            "The Union of set2 & set3 are {65, 66, 71, 11, 14, 15, 79, 84, 85, 91, 92, 94, 42, 48, 54, 57, 59, 60, 62}\n",
            "\n",
            "The Copy of Set1: {33, 39, 71, 74, 44, 45, 13, 47, 49, 51}\n",
            "The Copy of Set2: {66, 42, 11, 14, 15, 48, 79, 57, 92, 62}\n",
            "The Copy of Set3: {65, 71, 59, 11, 84, 85, 54, 91, 60, 94}\n",
            "\n",
            "The Difference of set1 & set2 are {33, 71, 39, 74, 44, 45, 13, 47, 49, 51}\n",
            "The Difference of set1 & set3 are {33, 39, 74, 44, 45, 13, 47, 49, 51}\n",
            "The Difference of set2 & set3 are {66, 42, 14, 15, 48, 79, 57, 92, 62}\n"
          ]
        }
      ],
      "source": [
        "set1 = set([1, 2, 3, 4])\n",
        "set2 = {1, 3.14, \"List aren't bad!\", 1987}\n",
        "set3 = {1, 2, 3, 4, 1, 2, 2, 2, 2, \"Hello, World!\"}\n",
        "\n",
        "print(f\"Print the Set1: {set1}\")\n",
        "print(f\"Print the Set2: {set2}\")\n",
        "print(f\"Automaticaly removes the duplicates: {set3}\")\n",
        "\n",
        "\n",
        "# Set Operations!\n",
        "set1.add('NYC')\n",
        "set1.add('This is It?')\n",
        "set1.remove('This is It?')\n",
        "\n",
        "\n",
        "# Check if a Element is Present in it ?\n",
        "# Using Complex IF/ELSE command!\n",
        "print()\n",
        "value = 'NYC'\n",
        "print(f\"\\\"{value}\\\" is {'present' if value in set1 else 'not present'} in the set.\")\n",
        "print(f\"\\\"{value}\\\" is {'present' if value in set2 else 'not present'} in the set.\")\n",
        "print(f\"\\\"{value}\\\" is {'present' if value in set3 else 'not present'} in the set.\")\n",
        "\n",
        "\n",
        "# \"&\" Means that What is the overlapping part of Sets!\n",
        "print()\n",
        "print(f\"These parts are common in both set1 & set2! : {set1 & set2}\")\n",
        "print(f\"These parts are common in both set1 & set3! : {set1 & set3}\")\n",
        "print(f\"These parts are common in both set2 & set3! : {set2 & set3}\")\n",
        "\n",
        "# Check for Subset method in Sets\n",
        "print()\n",
        "set1.remove('NYC')\n",
        "print(f\"Is set1 a subset of set2? : {set1.issubset(set3)}\")\n",
        "print(f\"Is set2 a subset of set1? : {set2.issubset(set1)}\")\n",
        "print(f\"Is set3 a subset of set2? : {set3.issubset(set2)}\")\n",
        "\n",
        "# Check for Superset method in Sets\n",
        "print()\n",
        "print(f\"Is set3 a superset of set1? : {set3.issuperset(set1)}\")\n",
        "print(f\"Is set2 a superset of set1? : {set2.issuperset(set1)}\")\n",
        "print(f\"Is set3 a superset of set2? : {set3.issuperset(set2)}\")\n",
        "\n",
        "# Clearing a Set Using clear() method!\n",
        "set1.clear()\n",
        "set3.clear()\n",
        "set2.clear()\n",
        "\n",
        "# Updating Sets using update method\n",
        "\n",
        "set1.update(random.sample(range(10, 100), 10))\n",
        "set2.update(random.sample(range(10, 100), 10))\n",
        "set3.update(random.sample(range(10, 100), 10))\n",
        "\n",
        "# Update and checking out The Updated Chats!\n",
        "print()\n",
        "print(f\"Print the Set1: {set1}\")\n",
        "print(f\"Print the Set2: {set2}\")\n",
        "print(f\"Print the Set3: {set3}\")\n",
        "\n",
        "\n",
        "# Checking Intersections of Set! (Overlapping Elements in the sets!)\n",
        "print()\n",
        "print(f\"The Common Elements in set1 & set2 are {set1.intersection(set2)}\")\n",
        "print(f\"The Common Elements in set1 & set3 are {set1.intersection(set3)}\")\n",
        "print(f\"The Common Elements in set1 & set3 are {set2.intersection(set3)}\")\n",
        "\n",
        "\n",
        "# Checking Union in Sets! (Combines both sets!)\n",
        "print()\n",
        "print(f\"The Union of set1 & set2 are {set1.union(set2)}\")\n",
        "print(f\"The Union of set1 & set3 are {set1.union(set3)}\")\n",
        "print(f\"The Union of set2 & set3 are {set2.union(set3)}\")\n",
        "\n",
        "\n",
        "# Checking Union in Sets! (Combines both sets!)\n",
        "setX = set1.copy()\n",
        "setY = set2.copy()\n",
        "setZ = set3.copy()\n",
        "print()\n",
        "print(f\"The Copy of Set1: {setX}\")\n",
        "print(f\"The Copy of Set2: {setY}\")\n",
        "print(f\"The Copy of Set3: {setZ}\")\n",
        "\n",
        "\n",
        "# Finding Difference Between Sets!?\n",
        "# Find the elements that are present in one set but not in another.\n",
        "print()\n",
        "print(f\"The Difference of set1 & set2 are {setX.difference(setY)}\")\n",
        "print(f\"The Difference of set1 & set3 are {setX.difference(setZ)}\")\n",
        "print(f\"The Difference of set2 & set3 are {setY.difference(setZ)}\")\n",
        "\n",
        "# Removes a random element from the set!\n",
        "set1.pop()\n",
        "set2.pop()\n",
        "set3.pop()\n",
        "\n",
        "# Adding an Element & Discared a Element using discard method!\n",
        "set1.add(\"Hello, World!\")\n",
        "set1.discard(\"Hello, World!\")\n",
        "\n",
        "\n",
        "del(setX)\n",
        "del(setY)\n",
        "del(setZ)\n",
        "del(set1)\n",
        "del(set2)\n",
        "del(set3)"
      ]
    },
    {
      "cell_type": "markdown",
      "metadata": {
        "id": "kMDbPfI43kiG"
      },
      "source": [
        "# **7. Dictionaries**\n",
        "\n",
        "## Introduction\n",
        "A **dictionary** in Python is an **unordered**, **mutable** collection of data in the form of key-value pairs. It is one of the most commonly used data structures in Python due to its versatility and efficiency.\n",
        "\n",
        "## Key Features\n",
        "- **Unordered**: Dictionaries do not maintain any order of the elements. Since Python 3.7, dictionaries preserve the insertion order, but traditionally they are considered unordered.\n",
        "- **Mutable**: You can change, add, or remove key-value pairs after the dictionary has been created.\n",
        "- **Indexed by Keys**: Instead of being indexed by a range of numbers, like lists, dictionaries are indexed by keys, which can be any immutable type (e.g., strings, numbers, tuples).\n",
        "\n",
        "## Structure\n",
        "A dictionary consists of key-value pairs. Each key is mapped to a specific value using a colon (`:`), and each pair is separated by a comma. The entire dictionary is enclosed in curly braces `{}`.\n"
      ]
    },
    {
      "cell_type": "code",
      "execution_count": 8,
      "metadata": {
        "colab": {
          "base_uri": "https://localhost:8080/"
        },
        "id": "gk9qbCQ33-Sl",
        "outputId": "f90dfeb4-9df6-4f8f-a0a0-84de680ccc48"
      },
      "outputs": [
        {
          "name": "stdout",
          "output_type": "stream",
          "text": [
            "{'Key1': 'Value1', 'Key2': 'Value2', 'Key3': 'Value3', 'Key4': 'Value4'}\n",
            "{'Key1': 'Value1', 'Key2': 'Value2', 'Key3': 'Value3', 'Key4': 'Value4'}\n",
            "{'Key1': 'Value1', 'Key2': 'Value2', 'Key3': 'Value3', 'Key4': 'Value4'}\n",
            "{'Key1': 'Value1', 'Key2': 'Value2', 'Key3': 'Value3', 'Key4': 'Value4'}\n",
            "\n",
            "The value of Key1: Value1\n",
            "The value of Key2: Value2\n",
            "The value of Key3: Value3\n",
            "The value of Key4: Value4\n",
            "\n",
            "Key1 is present in the Dictionary: True\n",
            "Key2 is present in the Dictionary: True\n",
            "Key3 is present in the Dictionary: True\n",
            "Key4 is present in the Dictionary: True\n",
            "KeyX is present in the Dictionary: False\n",
            "\n",
            "{'Laptop': {'Price': 1200, 'Quantity': 30}, 'Smartphone': {'Price': 800, 'Quantity': 50}}\n",
            "{'Alice': {'Math': 85, 'English': 90, 'Science': 78}, 'Bob': {'Math': 92, 'English': 88, 'Science': 82}}\n",
            "\n",
            "{'Laptop': {'Price': 800, 'Quantity': 10}, 'Smartphone': {'Price': 800, 'Quantity': 50}}\n",
            "{'Alice': {'Math': 90, 'English': 50, 'Science': 85}, 'Bob': {'Math': 92, 'English': 88, 'Science': 82}}\n",
            "\n",
            "There are 4 numbers of Elements in the dictionary!\n",
            "Key: Laptop, Value: {'Price': 800, 'Quantity': 10}\n",
            "Key: Smartphone, Value: {'Price': 800, 'Quantity': 50}\n"
          ]
        }
      ],
      "source": [
        "\n",
        "keys = [\"Key1\", \"Key2\", \"Key3\", \"Key4\"]\n",
        "values = [\"Value1\", \"Value2\", \"Value3\", \"Value4\"]\n",
        "\n",
        "# Creating Dictionaries\n",
        "dict1 = {\n",
        "    \"Key1\": \"Value1\",\n",
        "    \"Key2\": \"Value2\",\n",
        "    \"Key3\": \"Value3\",\n",
        "    \"Key4\": \"Value4\"\n",
        "}\n",
        "\n",
        "# Can pass the key-value pairs as keyword arguments.\n",
        "# In this syntax, the keys are treated as identifiers.\n",
        "dict2 = dict(\n",
        "    Key1=\"Value1\",\n",
        "    Key2=\"Value2\",\n",
        "    Key3=\"Value3\",\n",
        "    Key4=\"Value4\"\n",
        ")\n",
        "\n",
        "dict3 = dict([(\"Key1\", \"Value1\"), (\"Key2\", \"Value2\"), (\"Key3\", \"Value3\"), (\"Key4\", \"Value4\")])\n",
        "dict4 = dict(zip(keys, values))\n",
        "\n",
        "print(dict1)\n",
        "print(dict2)\n",
        "print(dict3)\n",
        "print(dict4)\n",
        "\n",
        "\n",
        "# Getting Values From Dictionaries:\n",
        "print()\n",
        "vals = ['Key1', 'Key2', 'Key3', 'Key4']\n",
        "print(f\"The value of {vals[0]}: {dict1[vals[0]]}\")\n",
        "print(f\"The value of {vals[1]}: {dict2[vals[1]]}\")\n",
        "print(f\"The value of {vals[2]}: {dict3[vals[2]]}\")\n",
        "print(f\"The value of {vals[3]}: {dict4[vals[3]]}\")\n",
        "\n",
        "\n",
        "# Using .keys() and .values() as per the requirement.\n",
        "# .keys() return all \"Keys\" in the Dictionary!\n",
        "# .values() return all \"Values\" in the Dictionary!\n",
        "print()\n",
        "print(f\"{vals[0]} is present in the Dictionary: {True if vals[0] in dict1.keys() else False}\")\n",
        "print(f\"{vals[1]} is present in the Dictionary: {True if vals[1] in dict1.keys() else False}\")\n",
        "print(f\"{vals[2]} is present in the Dictionary: {True if vals[2] in dict1.keys() else False}\")\n",
        "print(f\"{vals[3]} is present in the Dictionary: {True if vals[2] in dict1.keys() else False}\")\n",
        "print(f\"{'KeyX'} is present in the Dictionary: {True if 'KEYX' in dict1.keys() else False}\")\n",
        "\n",
        "\n",
        "# This are the Grades!- & some Random Dictionaries for operations on Dictionaries!\n",
        "Grades = {\n",
        "    \"Alice\": {\"Math\": 85, \"English\": 90, \"Science\": 78},\n",
        "    \"Bob\": {\"Math\": 92, \"English\": 88, \"Science\": 82}\n",
        "}\n",
        "\n",
        "Invent = {\n",
        "    \"Laptop\": {\"Price\": 1200, \"Quantity\": 30},\n",
        "    \"Smartphone\": {\"Price\": 800, \"Quantity\": 50}\n",
        "}\n",
        "\n",
        "print()\n",
        "print(Invent)\n",
        "print(Grades)\n",
        "\n",
        "# Using update() method!-\n",
        "print()\n",
        "newGrades = {\"Alice\": {\"Math\": 90, \"English\": 50, \"Science\": 85}}\n",
        "newInventories = {\"Laptop\": {\"Price\": 800, \"Quantity\": 10}}\n",
        "Grades.update(newGrades)\n",
        "Invent.update(newInventories)\n",
        "print(Invent)\n",
        "print(Grades)\n",
        "\n",
        "\n",
        "# Using .items() to access all values!\n",
        "print()\n",
        "print(f\"There are {dict1.items().__len__()} numbers of Elements in the dictionary!\")\n",
        "for i, j in Invent.items(): print(f\"Key: {i}, Value: {j}\")\n",
        "\n",
        "\n",
        "# Deleting all Dictionaries!\n",
        "del(dict1)\n",
        "del(dict2)\n",
        "del(dict3)\n",
        "del(dict4)\n",
        "del(Grades)\n",
        "del(Invent)"
      ]
    },
    {
      "cell_type": "markdown",
      "metadata": {
        "id": "FNGfoZsNyBdB"
      },
      "source": [
        "# **8. Logical Operations**\n",
        "\n",
        "\n",
        "- Logical operations in Python are used to combine or manipulate boolean values.\n",
        "- They are essential for controlling the flow of programs, making decisions, and testing conditions.\n"
      ]
    },
    {
      "cell_type": "code",
      "execution_count": 9,
      "metadata": {
        "colab": {
          "base_uri": "https://localhost:8080/"
        },
        "id": "S3xVmE5EwfD_",
        "outputId": "073147bd-89da-4f85-f1c7-1c531feec19a"
      },
      "outputs": [
        {
          "name": "stdout",
          "output_type": "stream",
          "text": [
            "\n",
            "Understanding Logical Operators!-\n",
            "OR  : True\n",
            "NOT : True\n",
            "AND : False\n",
            "\n",
            "Understanding Multiple Logical Operators!-\n",
            "False\n"
          ]
        }
      ],
      "source": [
        "a = True\n",
        "b = False\n",
        "c = True\n",
        "\n",
        "# Logical OR, AND & NOT operations =\n",
        "print(\"\\nUnderstanding Logical Operators!-\")\n",
        "\n",
        "print(f\"OR  : {a or b}\")\n",
        "print(f\"NOT : {not b}\")\n",
        "print(f\"AND : {a and b}\")\n",
        "\n",
        "\n",
        "\n",
        "# Combining Logical Operators\n",
        "print(\"\\nUnderstanding Multiple Logical Operators!-\")\n",
        "print((a or b) and not c)\n"
      ]
    },
    {
      "cell_type": "markdown",
      "metadata": {},
      "source": [
        "# **9. Loops & Etc...**"
      ]
    },
    {
      "cell_type": "code",
      "execution_count": 12,
      "metadata": {},
      "outputs": [
        {
          "name": "stdout",
          "output_type": "stream",
          "text": [
            "0  ->  Red\n",
            "1  ->  Yellow\n",
            "2  ->  Green\n",
            "3  ->  Orange\n",
            "4  ->  Purple\n"
          ]
        }
      ],
      "source": [
        "squares = ['Red', 'Yellow', 'Green', 'Orange', 'Purple']\n",
        "\n",
        "for i, square in enumerate(squares):\n",
        "    print(i, \" -> \", square)\n",
        "\n",
        "'''\n",
        "    @brief: So What it actually does is, also returns the index of the value along with the actually value!\n",
        "'''"
      ]
    },
    {
      "cell_type": "code",
      "execution_count": 18,
      "metadata": {},
      "outputs": [
        {
          "name": "stdout",
          "output_type": "stream",
          "text": [
            "Hello, World!\n",
            "Help on function sampleFunc in module __main__:\n",
            "\n",
            "sampleFunc()\n",
            "    @brief: Will Simply print a string - Hello, World\n",
            "\n",
            "(['Will', 'This', 'Work'],)\n",
            "('Will', 'This', 'Work')\n"
          ]
        }
      ],
      "source": [
        "def sampleFunc(): \n",
        "    \"\"\"\n",
        "        @brief: Will Simply print a string - Hello, World\n",
        "    \"\"\"\n",
        "    print(\"Hello, World!\")\n",
        "\n",
        "def understandMultiArgs(*names):\n",
        "    print(names)\n",
        "\n",
        "if __name__ == '__main__':\n",
        "    sampleFunc()\n",
        "    help(sampleFunc)\n",
        "\n",
        "    understandMultiArgs(\"Will This Work\".split(\" \"))\n",
        "    understandMultiArgs(\"Will\", \"This\", \"Work\")"
      ]
    },
    {
      "cell_type": "code",
      "execution_count": 23,
      "metadata": {},
      "outputs": [],
      "source": [
        "class app:\n",
        "    def __init__(self, window, size, color, etc):\n",
        "        self.win = window\n",
        "        self.siz = size\n",
        "        self.clr = color\n",
        "        self.etc = etc\n",
        "\n",
        "    \n",
        "    @classmethod\n",
        "    def get_attr(self):\n",
        "        print(self.win, self.siz, self.clr, self.etc, sep=\" ,\")\n",
        "        return\n",
        "\n",
        "\n",
        "\n",
        "if __name__ == \"__main__\":\n",
        "    object = app(12, 15, \"red\", None)\n",
        "    object.get_attr"
      ]
    }
  ],
  "metadata": {
    "colab": {
      "provenance": []
    },
    "kaggle": {
      "accelerator": "none",
      "dataSources": [],
      "dockerImageVersionId": 30746,
      "isGpuEnabled": false,
      "isInternetEnabled": true,
      "language": "python",
      "sourceType": "notebook"
    },
    "kernelspec": {
      "display_name": "Python 3",
      "language": "python",
      "name": "python3"
    },
    "language_info": {
      "codemirror_mode": {
        "name": "ipython",
        "version": 3
      },
      "file_extension": ".py",
      "mimetype": "text/x-python",
      "name": "python",
      "nbconvert_exporter": "python",
      "pygments_lexer": "ipython3",
      "version": "3.10.13"
    }
  },
  "nbformat": 4,
  "nbformat_minor": 0
}
