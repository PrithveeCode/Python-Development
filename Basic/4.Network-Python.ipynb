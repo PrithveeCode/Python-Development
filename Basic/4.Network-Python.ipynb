{
 "cells": [
  {
   "cell_type": "markdown",
   "metadata": {},
   "source": [
    "### **1. Networking in Python**"
   ]
  },
  {
   "cell_type": "code",
   "execution_count": 8,
   "metadata": {},
   "outputs": [
    {
     "name": "stdout",
     "output_type": "stream",
     "text": [
      "Let's Learn Sockets!.\n"
     ]
    }
   ],
   "source": [
    "''' \n",
    "\n",
    "@brief:\n",
    "A protocol is a set of precise rules that determine who is to go first, what they are\n",
    "to do, and then what the responses are to that message, and who sends next, and\n",
    "so on. In a sense the two applications at either end of the socket are doing a dance\n",
    "and making sure not to step on each other toes.\n",
    "'''\n",
    "\n",
    "# Sockets: 2 - Way Communication.\n",
    "# Sockets: Most of The Time It's A Blocking Wait!.\n",
    "print(\"Let's Learn Sockets!.\")"
   ]
  },
  {
   "cell_type": "code",
   "execution_count": null,
   "metadata": {},
   "outputs": [],
   "source": []
  }
 ],
 "metadata": {
  "kernelspec": {
   "display_name": "pyTutorials",
   "language": "python",
   "name": "python3"
  },
  "language_info": {
   "codemirror_mode": {
    "name": "ipython",
    "version": 3
   },
   "file_extension": ".py",
   "mimetype": "text/x-python",
   "name": "python",
   "nbconvert_exporter": "python",
   "pygments_lexer": "ipython3",
   "version": "3.10.13"
  },
  "orig_nbformat": 4
 },
 "nbformat": 4,
 "nbformat_minor": 2
}
