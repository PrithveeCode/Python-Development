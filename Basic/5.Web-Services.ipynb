{
 "cells": [
  {
   "cell_type": "markdown",
   "metadata": {},
   "source": [
    "#### **1. Web Services**"
   ]
  },
  {
   "cell_type": "markdown",
   "metadata": {},
   "source": [
    "\n",
    "### **1.1 eXtensible Markup Language - XML**\n",
    "- XML looks very similar to HTML, but XML is more structured than HTML.\n",
    "- Calling fromstring converts the string representation of the XML into a “tree” of XML nodes. \n",
    "- When the XML is in a tree, we have a series of methods we can call to extract portions of data from the XML.\n",
    "\n",
    "2. XML Schema: \n",
    "- This is used To Define What is Valid in Data Comms.\n",
    "\n"
   ]
  },
  {
   "cell_type": "code",
   "execution_count": 55,
   "metadata": {},
   "outputs": [
    {
     "name": "stdout",
     "output_type": "stream",
     "text": [
      "Name: Chuck.\n",
      "Attr: yes.\n"
     ]
    }
   ],
   "source": [
    "'''\n",
    "1. This is Called XML Schema: \n",
    "<xs:complexType name=”person”>\n",
    "  <xs:sequence>\n",
    "    <xs:element name=\"lastname\" type=\"xs:string\"/>\n",
    "    <xs:element name=\"age\" type=\"xs:integer\"/>\n",
    "    <xs:element name=\"dateborn\" type=\"xs:date\"/>\n",
    "  </xs:sequence>\n",
    "</xs:complexType>\n",
    "\n",
    "\n",
    "2. The Example of XML data That Follows Above Schema is:\n",
    "<person>\n",
    "   <lastname>Severance</lastname>\n",
    "   <age>17</age>\n",
    "   <dateborn>2001-04-17</dateborn>\n",
    "</person>\n",
    "'''\n",
    "# How to parse The Above XML:\n",
    "\n",
    "import xml.etree.ElementTree as et\n",
    "data = '''\n",
    "<person>\n",
    "<name>Chuck</name>\n",
    "<phone type=\"intl\">\n",
    "+1 734 303 4456\n",
    "</phone>\n",
    "<email hide=\"yes\"/>\n",
    "</person>\n",
    "'''\n",
    "\n",
    "tree = et.fromstring(data)\n",
    "name = tree.find('name')\n",
    "mail = tree.find('email')\n",
    "\n",
    "print(f\"Name: {'None' if (name is None) else name.text}.\")\n",
    "print(f\"Attr: {'None' if (mail is None) else mail.get('hide')}.\")\n",
    "\n",
    "del(name)\n",
    "del(tree)\n",
    "del(mail)\n",
    "del(data)"
   ]
  },
  {
   "cell_type": "code",
   "execution_count": 32,
   "metadata": {},
   "outputs": [
    {
     "name": "stdout",
     "output_type": "stream",
     "text": [
      "Number of Users: 2\n",
      "Name: Chuck, Id: 001, Attr X: 2.\n",
      "Name: Brent, Id: 009, Attr X: 7.\n"
     ]
    }
   ],
   "source": [
    "# Looping Through Nodes!:\n",
    "import xml.etree.ElementTree as et\n",
    "\n",
    "data = '''\n",
    "<stuff>\n",
    "<users>\n",
    "<user x=\"2\">\n",
    "<id>001</id>\n",
    "<name>Chuck</name>\n",
    "</user>\n",
    "<user x=\"7\">\n",
    "<id>009</id>\n",
    "<name>Brent</name>\n",
    "</user>\n",
    "</users>\n",
    "</stuff>'''\n",
    "\n",
    "stuff = et.fromstring(data)\n",
    "listr = stuff.findall('users/user')\n",
    "print(f\"Number of Users: {len(listr)}\")\n",
    "\n",
    "for usr in listr:\n",
    "    name = usr.find('name')\n",
    "    iden = usr.find('id')\n",
    "\n",
    "    print(f\"Name: {None if name is None else name.text}\", end=\", \")\n",
    "    print(f\"Id: {None if iden is None else iden.text}\", end=\", \")\n",
    "    print(f\"Attr X: {None if usr.get('x') is None else usr.get('x')}.\")\n",
    "\n",
    "del(usr)\n",
    "del(name)\n",
    "del(iden)\n",
    "del(stuff)\n",
    "del(listr)"
   ]
  },
  {
   "cell_type": "code",
   "execution_count": 54,
   "metadata": {},
   "outputs": [
    {
     "name": "stdout",
     "output_type": "stream",
     "text": [
      "Sum: 2528\n"
     ]
    }
   ],
   "source": [
    "# Excercise: 1\n",
    "'''\n",
    "Q. In this assignment you will write a Python program somewhat similar \n",
    "to http://www.py4e.com/code3/geoxml.py. The program will prompt for a URL, read the \n",
    "XML data from that URL using urllib and then parse and extract the comment counts from\n",
    "the XML data, compute the sum of the numbers in the file.\n",
    "\n",
    "\n",
    "- Sample data: http://py4e-data.dr-chuck.net/comments_42.xml (Sum=2553)\n",
    "- Actual data: http://py4e-data.dr-chuck.net/comments_1841122.xml (Sum ends with 28)\n",
    "\n",
    "\n",
    "- Example: \n",
    "- Data Format and Approach\n",
    "- The data consists of a number of names and comment counts in XML as follows:\n",
    "\n",
    "<comment>\n",
    "  <name>Matthias</name>\n",
    "  <count>97</count>\n",
    "</comment>\n",
    "'''\n",
    "\n",
    "import xml.etree.ElementTree as et\n",
    "import urllib\n",
    "import ssl\n",
    "\n",
    "url = \"http://py4e-data.dr-chuck.net/comments_1841122.xml\"\n",
    "ctx = ssl.create_default_context()\n",
    "ctx.check_hostname = False\n",
    "ctx.verify_mode = False\n",
    "\n",
    "\n",
    "dat = urllib.request.urlopen(url=url, context=ctx).read()\n",
    "xml = et.fromstring(dat)\n",
    "\n",
    "# This Could Be One of The Implementaions For The Following Code: \n",
    "sum = 0\n",
    "for comment in xml.findall(\"comments/comment\"):\n",
    "    if comment is not None:\n",
    "        sum += (0 if (comment.find('count') is None) else int(comment.find('count').text))\n",
    "print(f\"Sum: {sum}\")"
   ]
  },
  {
   "cell_type": "markdown",
   "metadata": {},
   "source": [
    "#### **1.2 JavaScript Object Notation - JSON**\n",
    "\n",
    "- The JSON format was inspired by the object and array format used in the JavaScript language. \n",
    "- But since Python was invented before JavaScript.\n",
    "- Python’s syntax for dictionaries and lists influenced the syntax of JSON. "
   ]
  },
  {
   "cell_type": "code",
   "execution_count": 68,
   "metadata": {},
   "outputs": [
    {
     "name": "stdout",
     "output_type": "stream",
     "text": [
      "User Count: 2\n",
      "Name: Chuck, Ident: 001, Attribute: 2\n",
      "Name: Chuck, Ident: 009, Attribute: 7\n"
     ]
    }
   ],
   "source": [
    "'''\n",
    "{\n",
    "    \"name\" : \"Chuck\",\n",
    "    \"phone\" : \n",
    "    {\n",
    "        \"type\" : \"intl\",\n",
    "        \"number\" : \"+1 734 303 4456\"\n",
    "    },\n",
    "    \"email\" : \n",
    "    {\n",
    "        \"hide\" : \"yes\"\n",
    "    }\n",
    "}\n",
    "\n",
    "1. In general, JSON structures are simpler than XML because JSON has fewer ca-pabilities than XML.\n",
    "2. JSON is quickly becoming the format of choice for nearly all data exchange between applications \n",
    "   because of its relative simplicity compared to XML.\n",
    "'''\n",
    "\n",
    "import json\n",
    "\n",
    "data = '''\n",
    "[\n",
    "    { \n",
    "        \"id\" : \"001\",\n",
    "        \"x\" : \"2\",\n",
    "        \"name\" : \"Chuck\"\n",
    "    } ,\n",
    "    { \n",
    "        \"id\" : \"009\",\n",
    "        \"x\" : \"7\",\n",
    "        \"name\" : \"Chuck\"\n",
    "    }\n",
    "]\n",
    "'''\n",
    "\n",
    "info = json.loads(data)\n",
    "\n",
    "print(f\"User Count: {len(info)}\")\n",
    "\n",
    "for item in info:\n",
    "    print(f\"Name: {item['name']}\", end=', ')\n",
    "    print(f\"Ident: {item['id']}\", end=', ')\n",
    "    print(f\"Attribute: {item['x']}\")"
   ]
  },
  {
   "cell_type": "markdown",
   "metadata": {},
   "source": [
    "#### **1.3 Application Programming Interfaces (APIs)**\n",
    "\n",
    "1. We now have the ability to exchange data between applications using **HTTP(s)**.\n",
    "2. A way to represent complex data that we are S**ending/Receiving**.\n",
    "3. Using **eXtensible Markup Language(XML)** or **JavaScript Object Notation (JSON)**.\n",
    "\n",
    "\n",
    "Q. But What is It -?\n",
    "1. Begin to define and document “contracts” between applications using these techniques. \n",
    "2. The general name for these app-app contracts is **Application Program Interfaces or APIs**.\n",
    "3. When we use an API, generally one program makes a set of services available.\n",
    "4. For use by other applications and publishes the APIs (i.e., the “rules”). \n",
    "5. That must be followed to access the services provided by the program.\n",
    "\n",
    "\n",
    "\n",
    "Q. APIs ---->\n",
    "1. When we start writing the code to access APIs: \n",
    "2. We call the approach a **Service-Oriented Architecture** or **SOA**.\n",
    "3. What is **SOA** ? When Our Application <-Uses-> Services of Other Applications.\n",
    "5. What is **Non-SOA** ? When App is Standalone application & all code is inside the app code.    \n",
    "\n",
    "\n",
    "Example of SOA: Single Web-Page To Book Hotels, Flights, etc..\n"
   ]
  },
  {
   "cell_type": "code",
   "execution_count": null,
   "metadata": {},
   "outputs": [],
   "source": []
  }
 ],
 "metadata": {
  "kernelspec": {
   "display_name": "pynv",
   "language": "python",
   "name": "python3"
  },
  "language_info": {
   "codemirror_mode": {
    "name": "ipython",
    "version": 3
   },
   "file_extension": ".py",
   "mimetype": "text/x-python",
   "name": "python",
   "nbconvert_exporter": "python",
   "pygments_lexer": "ipython3",
   "version": "3.11.5"
  }
 },
 "nbformat": 4,
 "nbformat_minor": 2
}
