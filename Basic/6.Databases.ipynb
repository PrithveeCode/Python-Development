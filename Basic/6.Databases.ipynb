{
 "cells": [
  {
   "cell_type": "code",
   "execution_count": 4,
   "metadata": {},
   "outputs": [
    {
     "name": "stdout",
     "output_type": "stream",
     "text": [
      "SQLITE3 Installed Version: 2.6.0\n"
     ]
    }
   ],
   "source": [
    "import sqlite3\n",
    "\n",
    "'''\n",
    "1. How to Create A Table?\n",
    ">> CREATE TABLE Users(Name VARCHAR(128), Email VARCHAR(128))\n",
    ">> CREATE TABLE IF NOT EXISTS Users(Name VARCHAR(128), Email VARCHAR(128))\n",
    "\n",
    "2. How to Insert Data into Table?\n",
    ">> INSERT INTO Users(Name, Email) VALUES('Kelly','kel@gmail.com')\n",
    "\n",
    "3. How to Delete A Row?\n",
    ">> DELETE FROM Users WHERE Email='ted@gmail.com'\n",
    "\n",
    "4. How to Update A Entry?\n",
    ">> UPDATE Users SET Name='Chris' WHERE Email='csev@gmail.com'\n",
    ">> Explaination: \"WHERE\" Clause is Important. Because, Otherwise It'd do the changes for all the tables. Therefore, We must Narrow it down.\n",
    "'''\n",
    "\n",
    "print(f\"SQLITE3 Installed Version: {sqlite3.version}\")"
   ]
  },
  {
   "cell_type": "code",
   "execution_count": null,
   "metadata": {},
   "outputs": [],
   "source": []
  }
 ],
 "metadata": {
  "kernelspec": {
   "display_name": "pynv",
   "language": "python",
   "name": "python3"
  },
  "language_info": {
   "codemirror_mode": {
    "name": "ipython",
    "version": 3
   },
   "file_extension": ".py",
   "mimetype": "text/x-python",
   "name": "python",
   "nbconvert_exporter": "python",
   "pygments_lexer": "ipython3",
   "version": "3.10.13"
  }
 },
 "nbformat": 4,
 "nbformat_minor": 2
}
