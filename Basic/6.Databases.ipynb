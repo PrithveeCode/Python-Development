{
 "cells": [
  {
   "cell_type": "code",
   "execution_count": 1,
   "metadata": {},
   "outputs": [
    {
     "name": "stdout",
     "output_type": "stream",
     "text": [
      "SQLITE3 Installed Version: 2.6.0\n"
     ]
    }
   ],
   "source": [
    "import sqlite3\n",
    "\n",
    "'''\n",
    "1. How to Create A Table?\n",
    ">> CREATE TABLE Users(Name VARCHAR(128), Email VARCHAR(128))\n",
    ">> CREATE TABLE IF NOT EXISTS Users(Name VARCHAR(128), Email VARCHAR(128))\n",
    "\n",
    "2. How to Insert Data into Table?\n",
    ">> INSERT INTO Users(Name, Email) VALUES('Kelly','kel@gmail.com')\n",
    "\n",
    "3. How to Delete A Row?\n",
    ">> DELETE FROM Users WHERE Email='ted@gmail.com'\n",
    "\n",
    "4. How to Update A Entry?\n",
    ">> UPDATE Users SET Name='Chris' WHERE Email='csev@gmail.com'\n",
    ">> Explaination: \"WHERE\" Clause is Important. Because, Otherwise It'd do the changes for all the tables. Therefore, We must Narrow it down.\n",
    "'''\n",
    "\n",
    "print(f\"SQLITE3 Installed Version: {sqlite3.version}\")"
   ]
  },
  {
   "cell_type": "code",
   "execution_count": 33,
   "metadata": {},
   "outputs": [
    {
     "name": "stdout",
     "output_type": "stream",
     "text": [
      "Counts:\n",
      "iupui.edu 536\n",
      "umich.edu 491\n",
      "indiana.edu 178\n",
      "caret.cam.ac.uk 157\n",
      "vt.edu 110\n",
      "uct.ac.za 96\n",
      "media.berkeley.edu 56\n",
      "ufp.pt 28\n",
      "gmail.com 25\n",
      "et.gatech.edu 17\n"
     ]
    }
   ],
   "source": [
    "\"\"\"\n",
    "> CREATE TABLE Ages ( name VARCHAR(128), age INTEGER )\n",
    "> DELETE FROM Ages;\n",
    "> INSERT INTO Ages (name, age) VALUES ('Stewart', 28);\n",
    "> INSERT INTO Ages (name, age) VALUES ('Keilan', 27);\n",
    "> INSERT INTO Ages (name, age) VALUES ('Sharyn', 31);\n",
    "> INSERT INTO Ages (name, age) VALUES ('Maggy', 31);\n",
    "> INSERT INTO Ages (name, age) VALUES ('Mayra', 20);\n",
    "\n",
    "\n",
    "> SELECT hex(name || age) AS X FROM Ages ORDER BY X \n",
    "> Returns a Table: (with Name in \"Hexadecimal Values\" Hoever, I've converted to ASCII for better understanding)\n",
    "    |1| Keilan27  |\n",
    "    |2| Maggy31   | \n",
    "    |3| Mayra20   | \n",
    "    |4| Sharyn31  | \n",
    "    |5| Stewart28 |\n",
    "\"\"\"\n",
    "import sqlite3, re\n",
    "from collections import defaultdict\n",
    "\n",
    "\n",
    "connection = sqlite3.connect(\"../DBs/DB1.sqlite\")\n",
    "cursr = connection.cursor()\n",
    "cursr.execute(\"DROP TABLE IF EXISTS Counts\")\n",
    "cursr.execute(\"CREATE TABLE Counts (org TEXT, count INTEGER)\")\n",
    "mailPattern = re.compile(\"^From:.+@(\\S+)\")\n",
    "\n",
    "orgCount = defaultdict(int)\n",
    "\"\"\"\n",
    "    @Question   : What is \"defaultdict\"\n",
    "    @Answer     : \n",
    "\"\"\"\n",
    "with open(\"../Samples/mbox.txt\", mode='r') as fd:\n",
    "    for line in fd:\n",
    "        line = line.rstrip()\n",
    "        rout = mailPattern.findall(line)\n",
    "        # \\S -> Means Non-Whitespace  Charater To Look for in the text file. \n",
    "        if rout:\n",
    "            orgCount[rout[0]] += 1\n",
    "    fd.close()\n",
    "\n",
    "for org, count in orgCount.items():\n",
    "    cursr.execute('INSERT INTO Counts (org, count) VALUES (?, ?)', (org, count))\n",
    "connection.commit()\n",
    "\n",
    "print(\"Counts:\")\n",
    "for row in cursr.execute('SELECT org, count FROM Counts ORDER BY count DESC LIMIT 10') :\n",
    "    print (str(row[0]), row[1])\n",
    "cursr.close()\n"
   ]
  },
  {
   "cell_type": "code",
   "execution_count": null,
   "metadata": {},
   "outputs": [],
   "source": []
  }
 ],
 "metadata": {
  "kernelspec": {
   "display_name": "pynv",
   "language": "python",
   "name": "python3"
  },
  "language_info": {
   "codemirror_mode": {
    "name": "ipython",
    "version": 3
   },
   "file_extension": ".py",
   "mimetype": "text/x-python",
   "name": "python",
   "nbconvert_exporter": "python",
   "pygments_lexer": "ipython3",
   "version": "3.10.13"
  }
 },
 "nbformat": 4,
 "nbformat_minor": 2
}
