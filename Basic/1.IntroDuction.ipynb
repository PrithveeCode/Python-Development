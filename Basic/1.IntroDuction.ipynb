{
 "cells": [
  {
   "cell_type": "markdown",
   "id": "8793e8d7",
   "metadata": {
    "papermill": {
     "duration": 0.00885,
     "end_time": "2023-06-05T17:25:04.554416",
     "exception": false,
     "start_time": "2023-06-05T17:25:04.545566",
     "status": "completed"
    },
    "tags": []
   },
   "source": [
    "## **1. Hello World!- In Python**"
   ]
  },
  {
   "cell_type": "code",
   "execution_count": 1,
   "id": "c6902688",
   "metadata": {
    "execution": {
     "iopub.execute_input": "2023-06-05T17:25:04.573938Z",
     "iopub.status.busy": "2023-06-05T17:25:04.573204Z",
     "iopub.status.idle": "2023-06-05T17:25:04.587630Z",
     "shell.execute_reply": "2023-06-05T17:25:04.586508Z"
    },
    "papermill": {
     "duration": 0.02809,
     "end_time": "2023-06-05T17:25:04.591095",
     "exception": false,
     "start_time": "2023-06-05T17:25:04.563005",
     "status": "completed"
    },
    "tags": []
   },
   "outputs": [
    {
     "name": "stdout",
     "output_type": "stream",
     "text": [
      "Hello, World!- First Way\n",
      "Hello, World!- Second Way\n"
     ]
    }
   ],
   "source": [
    "# This is My First Comment -- Let's Go!\n",
    "# The Semi-Colon isn't Necessary, but since, I'm used to coding in C/C++\n",
    "# Take it as a - \"Coding Habit...\"\n",
    "\n",
    "print('Hello, World!- First Way');\n",
    "print(\"Hello, World!- Second Way\");\n",
    "\n",
    "# It Doesn't Actually Matter Whatever Way You Use Just Wish to Explore."
   ]
  },
  {
   "cell_type": "markdown",
   "id": "529337f0",
   "metadata": {
    "papermill": {
     "duration": 0.008151,
     "end_time": "2023-06-05T17:25:04.607871",
     "exception": false,
     "start_time": "2023-06-05T17:25:04.599720",
     "status": "completed"
    },
    "tags": []
   },
   "source": [
    "## **2. Basics of Python**\n",
    "- Python is classified as a **High-level programming language** designed to be easily understandable and writable for humans, as well as readable and processable for computers. \n",
    "\n",
    "- Similar to Python, other high-level languages like **Java, C++, PHP, Ruby, Basic, Perl, and JavaScript** offer a user-friendly coding experience. It's important to note that the hardware within the Central Processing Unit (CPU) itself does not possess the ability to comprehend these high-level languages."
   ]
  },
  {
   "cell_type": "markdown",
   "id": "d88c46fd",
   "metadata": {
    "papermill": {
     "duration": 0.007904,
     "end_time": "2023-06-05T17:25:04.624248",
     "exception": false,
     "start_time": "2023-06-05T17:25:04.616344",
     "status": "completed"
    },
    "tags": []
   },
   "source": [
    "## **3. Variables in Python**\n",
    "- Variables can be used to perform different kind of operations.\n",
    "- Be, it mathematical or conditional or any other kind of operations.\n",
    "\n",
    "### **3.1. Printing Variables in Python**\n",
    "- Below are ways to Print a Variable.."
   ]
  },
  {
   "cell_type": "code",
   "execution_count": 7,
   "id": "4c321c19",
   "metadata": {
    "execution": {
     "iopub.execute_input": "2023-06-05T17:25:04.644401Z",
     "iopub.status.busy": "2023-06-05T17:25:04.643939Z",
     "iopub.status.idle": "2023-06-05T17:25:04.650241Z",
     "shell.execute_reply": "2023-06-05T17:25:04.649333Z"
    },
    "papermill": {
     "duration": 0.018588,
     "end_time": "2023-06-05T17:25:04.652844",
     "exception": false,
     "start_time": "2023-06-05T17:25:04.634256",
     "status": "completed"
    },
    "tags": []
   },
   "outputs": [
    {
     "name": "stdout",
     "output_type": "stream",
     "text": [
      "The number stored in Variable-\"number\" is 3\n",
      "The number stored in Variable-\"number\" is 3\n",
      "The number stored in Variable-\"number\" is 3\n",
      "The number stored in Variable-\"number\" is 3.\n",
      "The number stored in Variable-\"number\" is 3\n"
     ]
    }
   ],
   "source": [
    "from string import Template\n",
    "\n",
    "number = 3\n",
    "print(\"The number stored in Variable-\\\"number\\\" is\", number)\n",
    "print(\"The number stored in Variable-\\\"number\\\" is {}\".format(number))\n",
    "print(\"The number stored in Variable-\\\"number\\\" is %d\" % (number))\n",
    "print(f\"The number stored in Variable-\\\"number\\\" is {number}\")\n",
    "print(Template(\"The number stored in Variable-\\\"number\\\" is $num\").substitute(num=number))"
   ]
  },
  {
   "cell_type": "markdown",
   "id": "627ca8a3",
   "metadata": {
    "papermill": {
     "duration": 0.008252,
     "end_time": "2023-06-05T17:25:04.669588",
     "exception": false,
     "start_time": "2023-06-05T17:25:04.661336",
     "status": "completed"
    },
    "tags": []
   },
   "source": [
    "### **3.1. Varible Data Types**\n",
    "\n",
    "| Category          | Types                         | Explanation                                      |\n",
    "| ----------------- | ------------------------------ | ------------------------------------------------- |\n",
    "| Sequential Types  | **list, tuples, range**        | Ordered collections of items. `list` is mutable, `tuples` are immutable, `range` represents a range of numbers. |\n",
    "| Mapping Types     | **dict**                       | Key-value pairs. Allows efficient data retrieval using keys. |\n",
    "| Sets Types        | **set, frozenset**             | Unordered collections of unique elements. `set` is mutable, `frozenset` is immutable. |\n",
    "| Boolean Type      | **bool**                       | Represents the truth values True or False. |\n",
    "| Binary Types      | **bytes, bytearray, memoryview** | Represent sequences of bytes. `bytes` is immutable, `bytearray` is mutable, `memoryview` provides a view of an array's buffer. |\n",
    "| None Type         | **NoneType**                   | Represents the absence of a value or a null value. |\n",
    "\n"
   ]
  },
  {
   "cell_type": "code",
   "execution_count": 3,
   "id": "eb9da468",
   "metadata": {
    "execution": {
     "iopub.execute_input": "2023-06-05T17:25:04.688431Z",
     "iopub.status.busy": "2023-06-05T17:25:04.687976Z",
     "iopub.status.idle": "2023-06-05T17:25:04.696151Z",
     "shell.execute_reply": "2023-06-05T17:25:04.694793Z"
    },
    "papermill": {
     "duration": 0.020763,
     "end_time": "2023-06-05T17:25:04.698793",
     "exception": false,
     "start_time": "2023-06-05T17:25:04.678030",
     "status": "completed"
    },
    "tags": []
   },
   "outputs": [
    {
     "name": "stdout",
     "output_type": "stream",
     "text": [
      "Value stored in \"num1\": \"2\" \t& its Type is <class 'int'>.\n",
      "Value stored in \"num2\": \"3.14\" \t& its Type is <class 'float'>.\n",
      "Value stored in \"num3\": \"3j\" \t& its Type is <class 'complex'>.\n",
      "Value stored in \"num3\": \"abc\" \t& its Type is <class 'str'>.\n"
     ]
    }
   ],
   "source": [
    "num1 = 2\n",
    "num2 = 3.14\n",
    "num3 = 3j\n",
    "str1 = 'abc'\n",
    "print(f\"Value stored in \\\"num1\\\": \\\"{num1}\\\" \\t& its Type is {type(num1)}.\")\n",
    "print(f\"Value stored in \\\"num2\\\": \\\"{num2}\\\" \\t& its Type is {type(num2)}.\")\n",
    "print(f\"Value stored in \\\"num3\\\": \\\"{num3}\\\" \\t& its Type is {type(num3)}.\")\n",
    "print(f\"Value stored in \\\"num3\\\": \\\"{str1}\\\" \\t& its Type is {type(str1)}.\")\n"
   ]
  },
  {
   "cell_type": "markdown",
   "id": "ed6fe87f",
   "metadata": {
    "papermill": {
     "duration": 0.008232,
     "end_time": "2023-06-05T17:25:04.715752",
     "exception": false,
     "start_time": "2023-06-05T17:25:04.707520",
     "status": "completed"
    },
    "tags": []
   },
   "source": [
    "## **4. Types of Error in Python**\n",
    "\n",
    "### **4.1. Syntax Errors**\n",
    "- This is a common error returned by interpreter when, you **don't follow the rules / grammar** of a programming language.\n",
    "\n",
    "### **4.2. Logical Errors**\n",
    "- The syntax is correct but, there is a flaw in logic & sequence of writing code with respect of what you want to achieve.\n",
    "\n",
    "| Goal You Want         | \"Pick up a Bottle Using a Stick\" |\n",
    "| --------------------- | -------------------------------- |\n",
    "| Wrong Logic           | \"Pick Up Stick -> Throw Stick -> Pick Up Stick\" |\n",
    "\n",
    "\n",
    "### **4.3. Semantic Errors**\n",
    "- A semantic error is when your description of the steps to take is syntactically perfect and in the right order, but there is **simply a mistake in the program**. \n",
    "- The program is perfectly correct but it **does not do what you intended for it to do**."
   ]
  },
  {
   "cell_type": "markdown",
   "id": "9b151729",
   "metadata": {
    "papermill": {
     "duration": 0.008298,
     "end_time": "2023-06-05T17:25:04.732519",
     "exception": false,
     "start_time": "2023-06-05T17:25:04.724221",
     "status": "completed"
    },
    "tags": []
   },
   "source": [
    "## **5. Statements & Keywords**\n",
    "### **5.1. Keywords In Python**\n",
    "\n",
    "- Python reserves **35 keywords**:\n",
    "- `and`, `as`, `assert`, `async`, `await`, `break`, `class`, `continue`, `def`, `del`, `elif`, `else`, `except`, `False`, `finally`, `for`, `from`, `global`, `if`, `import`, `in`, `is`, `lambda`, `None`, `nonlocal`, `not`, `or`, `pass`, `raise`, `return`, `True`, `try`, `while`, `with`, `yield`.\n",
    "\n",
    "\n",
    "### **5.2. Statements in Python**\n",
    "- A statement is a unit of code that the Python interpreter can execute. We have seen two kinds of statements: print being an expression statement and assignment.\n",
    "\n",
    "### **5.3. Operators & Operands**\n",
    "- Operators are special symbols that represent computations like addition and mul-tiplication. The values the operator is applied to are called operands.\n",
    "\n",
    "- The operators `+`, `-`, `*`, `/`, and `**` perform addition, subtraction, multiplication, division, and exponentiation, as in the following examples:\n"
   ]
  },
  {
   "cell_type": "code",
   "execution_count": 8,
   "id": "5e4269ee",
   "metadata": {
    "execution": {
     "iopub.execute_input": "2023-06-05T17:25:04.751499Z",
     "iopub.status.busy": "2023-06-05T17:25:04.751040Z",
     "iopub.status.idle": "2023-06-05T17:25:04.760735Z",
     "shell.execute_reply": "2023-06-05T17:25:04.759082Z"
    },
    "papermill": {
     "duration": 0.022337,
     "end_time": "2023-06-05T17:25:04.763431",
     "exception": false,
     "start_time": "2023-06-05T17:25:04.741094",
     "status": "completed"
    },
    "tags": []
   },
   "outputs": [
    {
     "name": "stdout",
     "output_type": "stream",
     "text": [
      "Addition Value is 63.\n",
      "Float Div Value is 3.8461538461538463.\n",
      "Integer Div Value is 3.\n",
      "Multiplication Value is 650.\n",
      "Subtraction Value is 37.\n",
      "Modulo Value is 11.\n",
      "\n"
     ]
    }
   ],
   "source": [
    "# Operations & Operands ---\n",
    "num1 = 13\n",
    "num2 = 50\n",
    "# Different Operations ----\n",
    "\n",
    "# 1. Additions --\n",
    "val = num1 + num2\n",
    "print(f\"Addition Value is {val}.\")\n",
    "\n",
    "# 2. Divisions -- There Are Two Types of Divisions\n",
    "# 2.1. Float Division.\n",
    "val = num2 / num1\n",
    "print(f\"Float Div Value is {val}.\")\n",
    "\n",
    "# 2.2. Integer Division.\n",
    "val = num2 // num1\n",
    "print(f\"Integer Div Value is {val}.\")\n",
    "\n",
    "# 3. Multiplication.\n",
    "val = num1 * num2\n",
    "print(f\"Multiplication Value is {val}.\")\n",
    "\n",
    "# 4. Substraction\n",
    "val = num2 - num1\n",
    "print(f\"Subtraction Value is {val}.\")\n",
    "\n",
    "# 5. Modulus Operator -- (Fancy Word For Remainder, LoL.)\n",
    "val = num2 % num1\n",
    "print(f\"Modulo Value is {val}.\")\n",
    "\n",
    "'''\n",
    "Now, We have to understand that these are the basics operations if I went \n",
    "over Different operations on Different Data Types such as String Concatinations, etc.. \n",
    "I'd be not ideal to introduce it This Early Stage...\n",
    "'''\n",
    "\n",
    "# This Line in Printed To keep The Above DocString To Not Be Printed in Output...\n",
    "print() "
   ]
  },
  {
   "cell_type": "markdown",
   "id": "a64def3f",
   "metadata": {
    "papermill": {
     "duration": 0.00835,
     "end_time": "2023-06-05T17:25:04.780475",
     "exception": false,
     "start_time": "2023-06-05T17:25:04.772125",
     "status": "completed"
    },
    "tags": []
   },
   "source": [
    "### **NOTE:** Does Python Follow BODMAS-?\n",
    "- No.\n",
    "- Python Follows **PEMDAS**\n",
    "- **P** : Parenthesis (Brackets)\n",
    "- **E** : Exponentiation.\n",
    "- **M** : Multiplication. \n",
    "- **D** : Division.\n",
    "- **A** : Addition.\n",
    "- **S** : Subtraction."
   ]
  },
  {
   "cell_type": "markdown",
   "id": "35cc3354",
   "metadata": {
    "papermill": {
     "duration": 0.008325,
     "end_time": "2023-06-05T17:25:04.797493",
     "exception": false,
     "start_time": "2023-06-05T17:25:04.789168",
     "status": "completed"
    },
    "tags": []
   },
   "source": [
    "# 6. User Input Handling."
   ]
  },
  {
   "cell_type": "code",
   "execution_count": 5,
   "id": "f870e98c",
   "metadata": {
    "execution": {
     "iopub.execute_input": "2023-06-05T17:25:04.817019Z",
     "iopub.status.busy": "2023-06-05T17:25:04.816617Z",
     "iopub.status.idle": "2023-06-05T17:25:05.428099Z",
     "shell.execute_reply": "2023-06-05T17:25:05.426400Z"
    },
    "papermill": {
     "duration": 0.624167,
     "end_time": "2023-06-05T17:25:05.430322",
     "exception": true,
     "start_time": "2023-06-05T17:25:04.806155",
     "status": "failed"
    },
    "tags": []
   },
   "outputs": [],
   "source": [
    "'''\n",
    "# input() is used to take input from the user may b it be string or any other value..\n",
    "num1 = input(\"Hello, Please Enter A Number: \")\n",
    "# Now, As we Can see We Can Also Enter A String & No Warning is Given... Other Way Could Be\n",
    "num2 = int(input(\"Hello, Please Enter A Number:\"))\n",
    "# Now It Generates An Error Rather Than A Warning, Error Handling is Important\n",
    "# Part of Coding --- So, Here's Another One\n",
    "'''\n",
    "# Uncomment Above Code To Run it..(It Mighn't be The Best But An implementaion can )\n",
    "while True:\n",
    "    try:\n",
    "        numx = int(input(\"Hello, Please Enter A Number: \"))\n",
    "        break\n",
    "    except ValueError:\n",
    "        print(\"Please Enter a Number.\")"
   ]
  },
  {
   "cell_type": "markdown",
   "id": "7c2461fb",
   "metadata": {
    "papermill": {
     "duration": null,
     "end_time": null,
     "exception": null,
     "start_time": null,
     "status": "pending"
    },
    "tags": []
   },
   "source": [
    "# 7. Conditional Execution\n",
    "## 7.1. Boolean Expressions\n",
    "- There are Multiple **Boolean Expressions** Such as:\n",
    "- Equal to (==)\n",
    "- Not Equal to (!=) \n",
    "- Greater Than (>) \n",
    "- Greater Than Equal to (>=)\n",
    "- Less Than (<)\n",
    "- Less Than Equal To (<=)\n",
    "- is (\"is\" - Keyword)\n",
    "- is not (\"is not\" - Keywords)\n"
   ]
  },
  {
   "cell_type": "code",
   "execution_count": 6,
   "id": "0222b346",
   "metadata": {
    "execution": {
     "iopub.execute_input": "2023-06-05T16:26:34.830705Z",
     "iopub.status.busy": "2023-06-05T16:26:34.830290Z",
     "iopub.status.idle": "2023-06-05T16:26:34.837587Z",
     "shell.execute_reply": "2023-06-05T16:26:34.836086Z",
     "shell.execute_reply.started": "2023-06-05T16:26:34.830673Z"
    },
    "papermill": {
     "duration": null,
     "end_time": null,
     "exception": null,
     "start_time": null,
     "status": "pending"
    },
    "tags": []
   },
   "outputs": [
    {
     "name": "stdout",
     "output_type": "stream",
     "text": [
      "Bool Operation: False\n"
     ]
    }
   ],
   "source": [
    "num1 = 12\n",
    "num2 = 13\n",
    "print(f\"Bool Operation: {num1 == num2}\")"
   ]
  },
  {
   "cell_type": "code",
   "execution_count": 7,
   "id": "f3225dbf",
   "metadata": {
    "execution": {
     "iopub.execute_input": "2023-06-05T16:26:34.841007Z",
     "iopub.status.busy": "2023-06-05T16:26:34.840313Z",
     "iopub.status.idle": "2023-06-05T16:26:34.852765Z",
     "shell.execute_reply": "2023-06-05T16:26:34.850941Z",
     "shell.execute_reply.started": "2023-06-05T16:26:34.840958Z"
    },
    "papermill": {
     "duration": null,
     "end_time": null,
     "exception": null,
     "start_time": null,
     "status": "pending"
    },
    "tags": []
   },
   "outputs": [
    {
     "name": "stdout",
     "output_type": "stream",
     "text": [
      "Both Numbers Are Equal\n"
     ]
    }
   ],
   "source": [
    "# Now, We'll look at Conditional Execution..\n",
    "# In Short We'll look at If-Else..\n",
    "num1 = 12\n",
    "num2 = 12\n",
    "\n",
    "if (num1 == num2):\n",
    "    print(f\"Both Numbers Are Equal\")\n",
    "else: \n",
    "    print(f\"Numbers Are not Equal\")"
   ]
  },
  {
   "cell_type": "markdown",
   "id": "1378275a",
   "metadata": {
    "papermill": {
     "duration": null,
     "end_time": null,
     "exception": null,
     "start_time": null,
     "status": "pending"
    },
    "tags": []
   },
   "source": [
    "## 7.2. Alternative Execution\n"
   ]
  },
  {
   "cell_type": "code",
   "execution_count": 8,
   "id": "9eddcdf7",
   "metadata": {
    "execution": {
     "iopub.execute_input": "2023-06-05T16:26:34.857883Z",
     "iopub.status.busy": "2023-06-05T16:26:34.857266Z",
     "iopub.status.idle": "2023-06-05T16:26:34.868316Z",
     "shell.execute_reply": "2023-06-05T16:26:34.867334Z",
     "shell.execute_reply.started": "2023-06-05T16:26:34.857839Z"
    },
    "papermill": {
     "duration": null,
     "end_time": null,
     "exception": null,
     "start_time": null,
     "status": "pending"
    },
    "tags": []
   },
   "outputs": [
    {
     "name": "stdout",
     "output_type": "stream",
     "text": [
      "\"num1\" is an Even Number.\n",
      "\"num2\" is a Odd Number.\n",
      "\"num3\" is Greater Than Zero.\n"
     ]
    }
   ],
   "source": [
    "num1 = 12\n",
    "num2 = 19\n",
    "num3 = 31\n",
    "\n",
    "# This is Simple Conditions:\n",
    "# Logic: Check For an Even Number\n",
    "# A number Divisible by \"2\" is called \"Even\".\n",
    "if (num1 % 2 == 0):\n",
    "    print(\"\\\"num1\\\" is an Even Number.\")\n",
    "else:\n",
    "    print(\"\\\"num1\\\" is a Odd Number.\")\n",
    "\n",
    "\n",
    "# This is nested Conditions\n",
    "# Simply: A Condition Within A Condition.\n",
    "if (num2 > 0):\n",
    "    if (num2 % 2 == 0):\n",
    "        print(\"\\\"num2\\\" is an Even Number.\")\n",
    "    else:\n",
    "        print(\"\\\"num2\\\" is a Odd Number.\")\n",
    "        \n",
    "\n",
    "# Sequential Conditions\n",
    "# For Multiple Conditions..\n",
    "if (num3 > 0):\n",
    "    print(\"\\\"num3\\\" is Greater Than Zero.\")\n",
    "elif (num3 < 0):\n",
    "    print(\"\\\"num3\\\" is Less Than Zero.\")\n",
    "else:\n",
    "    print(\"\\\"num3\\\" is Equal To Zero.\")"
   ]
  },
  {
   "cell_type": "markdown",
   "id": "a9133c3d",
   "metadata": {
    "papermill": {
     "duration": null,
     "end_time": null,
     "exception": null,
     "start_time": null,
     "status": "pending"
    },
    "tags": []
   },
   "source": [
    "# 8. Functions\n",
    "## 8.1. What's Function & Function Calls\n",
    "- A function is named **\"Sequence of Instructions\"** that perform a computation.\n",
    "- Later, you can “call” the function by name. We have already seen one example of a **Function call**."
   ]
  },
  {
   "cell_type": "code",
   "execution_count": 9,
   "id": "0059f128",
   "metadata": {
    "execution": {
     "iopub.execute_input": "2023-06-05T16:26:34.869718Z",
     "iopub.status.busy": "2023-06-05T16:26:34.869349Z",
     "iopub.status.idle": "2023-06-05T16:26:34.894616Z",
     "shell.execute_reply": "2023-06-05T16:26:34.893625Z",
     "shell.execute_reply.started": "2023-06-05T16:26:34.869686Z"
    },
    "papermill": {
     "duration": null,
     "end_time": null,
     "exception": null,
     "start_time": null,
     "status": "pending"
    },
    "tags": []
   },
   "outputs": [
    {
     "name": "stdout",
     "output_type": "stream",
     "text": [
      "Type: <class 'int'>\n",
      "Max, Min Values Are Respectively: w, ASCII:119,  , ASCII: 32.\n"
     ]
    }
   ],
   "source": [
    "# Let's look at an Example of Function Calls...\n",
    "# Built - In Function Calls\n",
    "numx = 12\n",
    "print(f\"Type: {type(numx)}\")\n",
    "\n",
    "str1 = \"Hello, world!\"\n",
    "max1 = max(str1)\n",
    "min1 = min(str1)\n",
    "print(f\"Max, Min Values Are Respectively: {max1}, ASCII:{ord(max1)}, {min1}, ASCII: {ord(min1)}.\")"
   ]
  },
  {
   "cell_type": "markdown",
   "id": "5ffd894c",
   "metadata": {
    "papermill": {
     "duration": null,
     "end_time": null,
     "exception": null,
     "start_time": null,
     "status": "pending"
    },
    "tags": []
   },
   "source": [
    "## 8.2. Math Functions"
   ]
  },
  {
   "cell_type": "code",
   "execution_count": 10,
   "id": "4ca7e0a9",
   "metadata": {
    "execution": {
     "iopub.execute_input": "2023-06-05T16:26:34.896656Z",
     "iopub.status.busy": "2023-06-05T16:26:34.896137Z",
     "iopub.status.idle": "2023-06-05T16:26:34.910970Z",
     "shell.execute_reply": "2023-06-05T16:26:34.909965Z",
     "shell.execute_reply.started": "2023-06-05T16:26:34.896619Z"
    },
    "papermill": {
     "duration": null,
     "end_time": null,
     "exception": null,
     "start_time": null,
     "status": "pending"
    },
    "tags": []
   },
   "outputs": [
    {
     "name": "stdout",
     "output_type": "stream",
     "text": [
      "Log10 Value of 10: 1.0\n",
      "Sin Value of 0.7: 0.644217687237691\n",
      "Square Root of \"4\" is: 2.0\n"
     ]
    }
   ],
   "source": [
    "import math\n",
    "\n",
    "\"\"\"\n",
    "This is how we import a module from outside python core code.\n",
    "- We Can use \"import\" keyword along with the library name to import it.\n",
    "\"\"\"\n",
    "num1 = 10\n",
    "num2 = 20\n",
    "print(f\"Log10 Value of {num1}: {math.log10(num1)}\")\n",
    "\n",
    "'''\n",
    "This is One Way of Printing The Usage of A Function or Method.\n",
    "e.g: print(help(math.sin))\n",
    "'''\n",
    "radian = 0.7\n",
    "print(f\"Sin Value of {radian}: {math.sin(radian)}\")\n",
    "\n",
    "'''\n",
    "Math Function To Get Square Root of A number.\n",
    "'''\n",
    "print(f\"Square Root of \\\"4\\\" is: {math.sqrt(4)}\")"
   ]
  },
  {
   "cell_type": "markdown",
   "id": "2db865a3",
   "metadata": {
    "papermill": {
     "duration": null,
     "end_time": null,
     "exception": null,
     "start_time": null,
     "status": "pending"
    },
    "tags": []
   },
   "source": [
    "## 8.3. Random Numbers\n",
    "- We'll Learn how to generate random numbers & Choices"
   ]
  },
  {
   "cell_type": "code",
   "execution_count": 11,
   "id": "941d3805",
   "metadata": {
    "execution": {
     "iopub.execute_input": "2023-06-05T16:26:46.125218Z",
     "iopub.status.busy": "2023-06-05T16:26:46.124763Z",
     "iopub.status.idle": "2023-06-05T16:26:46.135308Z",
     "shell.execute_reply": "2023-06-05T16:26:46.133574Z",
     "shell.execute_reply.started": "2023-06-05T16:26:46.125186Z"
    },
    "papermill": {
     "duration": null,
     "end_time": null,
     "exception": null,
     "start_time": null,
     "status": "pending"
    },
    "tags": []
   },
   "outputs": [
    {
     "name": "stdout",
     "output_type": "stream",
     "text": [
      "1. Random Number is 0.10630456959768897.\n",
      "2. Random Number is 0.6088041832688929.\n",
      "3. Random Number is 0.9943620155354159.\n",
      "4. Random Number is 0.23744082355763474.\n",
      "\n",
      "1. Random Number Between 1, 42 is 5.\n",
      "2. Random Number Between 1, 42 is 6.\n",
      "3. Random Number Between 1, 42 is 11.\n",
      "4. Random Number Between 1, 42 is 19.\n",
      "\n",
      "\n",
      "Random Number Out of Above List is: 10\n"
     ]
    }
   ],
   "source": [
    "import random\n",
    "\n",
    "'''\n",
    "random() method of random.Random instance\n",
    "random() -> x in the interval [0, 1).\n",
    "'''\n",
    "for i in range(1, 5):\n",
    "    print(f\"{i}. Random Number is {random.random()}.\")\n",
    "    \n",
    "print()\n",
    "for i in range(1, 5):\n",
    "    print(f\"{i}. Random Number Between 1, 42 is {random.randint(1, 42)}.\")\n",
    "    \n",
    "    \n",
    "'''\n",
    "To Choose A Random Number Out of a List or DataType Use:\n",
    "t = [1, 2, 4, 5]\n",
    "numrand = random.choice(t)\n",
    "'''\n",
    "print(end='\\n\\n')\n",
    "listDef = [1, 4, 5, 6, 10]\n",
    "print(f\"Random Number Out of Above List is: {random.choice(listDef)}\")"
   ]
  },
  {
   "cell_type": "markdown",
   "id": "dad4e1fa",
   "metadata": {
    "papermill": {
     "duration": null,
     "end_time": null,
     "exception": null,
     "start_time": null,
     "status": "pending"
    },
    "tags": []
   },
   "source": [
    "## 8.4. User - Defined Functions\n",
    "- User Defined Function Are a Smart Way To Implement **\"DRY\"**(Don't Repeat Yourself)."
   ]
  },
  {
   "cell_type": "code",
   "execution_count": 12,
   "id": "c1d369cd",
   "metadata": {
    "execution": {
     "iopub.execute_input": "2023-06-05T16:26:49.348727Z",
     "iopub.status.busy": "2023-06-05T16:26:49.348259Z",
     "iopub.status.idle": "2023-06-05T16:26:49.356276Z",
     "shell.execute_reply": "2023-06-05T16:26:49.354800Z",
     "shell.execute_reply.started": "2023-06-05T16:26:49.348693Z"
    },
    "papermill": {
     "duration": null,
     "end_time": null,
     "exception": null,
     "start_time": null,
     "status": "pending"
    },
    "tags": []
   },
   "outputs": [
    {
     "name": "stdout",
     "output_type": "stream",
     "text": [
      "The Sum of Numbers: 12, 45 is: 57\n"
     ]
    }
   ],
   "source": [
    "'''\n",
    "1.This is A Simple Function That Doesn't Return Anything.\n",
    "2.There Are Some Functions That Return Something & Some That Don't\n",
    "'''\n",
    "def sayHelloWorld():\n",
    "    print(\"Hello, World!\")\n",
    "    \n",
    "def addTwo(a , b):\n",
    "    return (a + b)\n",
    "\n",
    "print(f\"The Sum of Numbers: 12, 45 is: {addTwo(12, 45)}\")"
   ]
  },
  {
   "cell_type": "markdown",
   "id": "ef63dca9",
   "metadata": {
    "papermill": {
     "duration": null,
     "end_time": null,
     "exception": null,
     "start_time": null,
     "status": "pending"
    },
    "tags": []
   },
   "source": [
    "### First Excersise: Looping!"
   ]
  },
  {
   "cell_type": "code",
   "execution_count": 13,
   "id": "f679470c",
   "metadata": {
    "execution": {
     "iopub.execute_input": "2023-06-05T17:10:31.093879Z",
     "iopub.status.busy": "2023-06-05T17:10:31.092965Z",
     "iopub.status.idle": "2023-06-05T17:10:31.104752Z",
     "shell.execute_reply": "2023-06-05T17:10:31.103451Z",
     "shell.execute_reply.started": "2023-06-05T17:10:31.093834Z"
    },
    "papermill": {
     "duration": null,
     "end_time": null,
     "exception": null,
     "start_time": null,
     "status": "pending"
    },
    "tags": []
   },
   "outputs": [
    {
     "name": "stdout",
     "output_type": "stream",
     "text": [
      "The Largest Number: 46.\n",
      "Average is : 23.5\n",
      "Smallest Number is 2\n"
     ]
    }
   ],
   "source": [
    "listRnd = [9, 41, 12, 32, 45, 2, 34, 46, 10, 4]\n",
    "\n",
    "'''\n",
    "Q. Find The Largest Number in a List: [9, 41, 12, 32, 45, 2, 34, 46, 10, 4]\n",
    "This Logic is Used To find Maximum Number Out of A List.\n",
    "'''\n",
    "listMax = -1\n",
    "for i in listRnd:\n",
    "    if (i > listMax): \n",
    "        listMax = i\n",
    "        \n",
    "print(f\"The Largest Number: {listMax}.\")\n",
    "\n",
    "\n",
    "\n",
    "'''\n",
    "Q. Find The Average Number in a List: [9, 41, 12, 32, 45, 2, 34, 46, 10, 4]\n",
    "This Logic is Used To find Average Out of A List.\n",
    "'''\n",
    "sum = 0 \n",
    "for i in listRnd:\n",
    "    sum = sum + i\n",
    "print(f\"Average is : {sum / len(listRnd)}\")\n",
    "\n",
    "\n",
    "'''\n",
    "Q. Find The Smallest Number in a List: [9, 41, 12, 32, 45, 2, 34, 46, 10, 4] \n",
    "This Logic is Used To find Average Out of A List.\n",
    "'''\n",
    "smallst = listRnd[0]\n",
    "for i in listRnd:\n",
    "    if (smallst > i):\n",
    "        smallst = i\n",
    "\n",
    "print(f\"Smallest Number is {smallst}\")"
   ]
  },
  {
   "cell_type": "code",
   "execution_count": 3,
   "id": "b211da04",
   "metadata": {},
   "outputs": [
    {
     "name": "stdout",
     "output_type": "stream",
     "text": [
      "A file pointer is a reference to a particular position in the opened file. \n",
      "\n"
     ]
    }
   ],
   "source": [
    "fd = open(\"../Samples/1.FindHandling.txt\", \"r\")\n",
    "print(f\"{fd.readline()}\")\n",
    "fd.close()"
   ]
  },
  {
   "cell_type": "code",
   "execution_count": 5,
   "id": "cf9adb53",
   "metadata": {},
   "outputs": [
    {
     "name": "stdout",
     "output_type": "stream",
     "text": [
      "A file pointer is a reference to a particular position in the opened file.\n",
      "It is used in file handling to perform all file operations such as read, write, close, etc.\n",
      "We use the FILE macro to declare the file pointer variable.\n",
      "The FILE macro is defined inside <stdio.h> header file.\n"
     ]
    }
   ],
   "source": [
    "fd = open('../Samples/1.FindHandling.txt', 'r')\n",
    "'''\n",
    "@Brief: There is \\n Character At The End And Therefore I Replace it With Nothing!  \n",
    "@note:  We Can Either Do This: print(cheese.replace('\\n', ''))\n",
    "@note:  We Can Also Do: print(cheese.rstrip())\n",
    "'''\n",
    "for cheese in fd:\n",
    "    print(cheese.rstrip())\n",
    "fd.close()"
   ]
  },
  {
   "cell_type": "code",
   "execution_count": 7,
   "id": "5b296c4d",
   "metadata": {},
   "outputs": [
    {
     "name": "stdout",
     "output_type": "stream",
     "text": [
      "Average of All Lines: 0.7507185185185187\n"
     ]
    }
   ],
   "source": [
    "total = 0\n",
    "numLines = 0\n",
    "summedup = 0\n",
    "avg = 0\n",
    "fd = open('../Samples/2.AvgData.txt', 'r')\n",
    "for line in fd:\n",
    "    if not line.startswith(\"X-DSPAM-Confidence:\"):\n",
    "        continue\n",
    "    else:\n",
    "        numLines += 1\n",
    "        pos1 = line.find(' ')\n",
    "        str1 = line[pos1:].strip()\n",
    "        summedup += float(str1)\n",
    "print(f\"Average of All Lines: {summedup/numLines}\")"
   ]
  }
 ],
 "metadata": {
  "kernelspec": {
   "display_name": "Python 3",
   "language": "python",
   "name": "python3"
  },
  "language_info": {
   "codemirror_mode": {
    "name": "ipython",
    "version": 3
   },
   "file_extension": ".py",
   "mimetype": "text/x-python",
   "name": "python",
   "nbconvert_exporter": "python",
   "pygments_lexer": "ipython3",
   "version": "3.10.13"
  },
  "papermill": {
   "default_parameters": {},
   "duration": 17.761124,
   "end_time": "2023-06-05T17:25:06.463826",
   "environment_variables": {},
   "exception": true,
   "input_path": "__notebook__.ipynb",
   "output_path": "__notebook__.ipynb",
   "parameters": {},
   "start_time": "2023-06-05T17:24:48.702702",
   "version": "2.4.0"
  }
 },
 "nbformat": 4,
 "nbformat_minor": 5
}
